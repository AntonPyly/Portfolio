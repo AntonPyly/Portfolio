{
 "cells": [
  {
   "cell_type": "code",
   "execution_count": 3,
   "id": "f0eff773",
   "metadata": {},
   "outputs": [
    {
     "name": "stdout",
     "output_type": "stream",
     "text": [
      "Длина стороны квадрата: 5\n",
      "Радиус круга: 2\n",
      "False\n"
     ]
    }
   ],
   "source": [
    "# 1. \n",
    "# Запросите два вещественных числа в качестве следующих переменных:\n",
    "# - Длина стороны квадрата\n",
    "# - Радиус круга\n",
    "# Выведите «True», если окружность круга больше квадрата, иначе «False».\n",
    "\n",
    "a = float(input('Длина стороны квадрата: '))\n",
    "r = float(input('Радиус круга: '))\n",
    "\n",
    "if float(2*3.14*r) > float(4*a):\n",
    "    print(True)\n",
    "else:\n",
    "    print(False)"
   ]
  },
  {
   "cell_type": "code",
   "execution_count": 10,
   "id": "b72859fb",
   "metadata": {},
   "outputs": [
    {
     "name": "stdout",
     "output_type": "stream",
     "text": [
      "круг или квадрат? круг\n",
      "длина забора? 6\n"
     ]
    },
    {
     "data": {
      "text/plain": [
       "28.26"
      ]
     },
     "execution_count": 10,
     "metadata": {},
     "output_type": "execute_result"
    }
   ],
   "source": [
    "\n",
    "# Джонни строит забор. В качестве входящих данных запросите - название желаемой формы («круг» или «квадрат») \n",
    "# и длину забора Джонни. Выведите площадь, которую покрывает забор Джонни.\n",
    "\n",
    "a = str(input('круг или квадрат? '))\n",
    "l = float(input('длина забора? '))\n",
    "\n",
    "def S():\n",
    "    return float(l**2) if a == 'квадрат' else float(3.14*(l/2)**2)\n",
    "\n",
    "S()\n"
   ]
  },
  {
   "cell_type": "code",
   "execution_count": 26,
   "id": "1ee78421",
   "metadata": {},
   "outputs": [
    {
     "name": "stdout",
     "output_type": "stream",
     "text": [
      "me (камень - ножницы - бумага): камень\n",
      "computer: бумага \n",
      "result: computer win\n"
     ]
    }
   ],
   "source": [
    "# 3. \n",
    "# Запустите игру «камень - ножницы - бумага» против компьютера. Выведите победителя.\n",
    "\n",
    "import random\n",
    "\n",
    "me = str(input('me (камень - ножницы - бумага): '))\n",
    "rnd_list = ['камень', 'ножницы', 'бумага']\n",
    "computer = random.choice(rnd_list)\n",
    "\n",
    "if me == 'камень'  and computer == 'камень' or me == 'ножницы'  and computer == 'ножницы' or me == 'бумага'  and computer == 'бумага':\n",
    "    print('computer:',computer, 'result: draw')\n",
    "elif me == 'камень' and computer == 'ножницы' or me == 'ножницы'  and computer == 'бумага' or me == 'бумага'  and computer == 'камень':\n",
    "    print('result: you win')\n",
    "else:\n",
    "    print('computer:',computer,\n",
    "          \"\\n\"+'result: computer win')\n"
   ]
  },
  {
   "cell_type": "code",
   "execution_count": 5,
   "id": "b8bb3458",
   "metadata": {},
   "outputs": [
    {
     "name": "stdout",
     "output_type": "stream",
     "text": [
      "me (камень - ножницы - бумага): камень\n",
      "computer: ножницы \n",
      "result: you win\n",
      "me - 1 computer - 0 draw - 0\n",
      "me (камень - ножницы - бумага): камень\n",
      "computer: ножницы \n",
      "result: you win\n",
      "me - 2 computer - 0 draw - 0\n",
      "me (камень - ножницы - бумага): камень\n",
      "computer: бумага \n",
      "result: computer win\n",
      "me - 2 computer - 1 draw - 0\n",
      "me (камень - ножницы - бумага): камень\n",
      "computer: камень result: draw\n",
      "me - 2 computer - 1 draw - 1\n",
      "me (камень - ножницы - бумага): камень\n",
      "computer: ножницы \n",
      "result: you win\n",
      "me - 3 computer - 1 draw - 1\n",
      "me (камень - ножницы - бумага): камень\n",
      "computer: камень result: draw\n",
      "me - 3 computer - 1 draw - 2\n",
      "me (камень - ножницы - бумага): выход\n",
      "you win in the game\n"
     ]
    }
   ],
   "source": [
    "# 4.\n",
    "# Запустите серию игр «камень,ножницы,бумага», пока пользователь не захочет выйти.\n",
    "# Выведите статистику после каждой игры (количество побед компьютера,количество побед пользователя, количество ничьих).\n",
    "# Когда пользователь уйдет, выведите окончательного победителя.\n",
    "\n",
    "import random\n",
    "\n",
    "\n",
    "count = ['me -', 0, 'computer -', 0, 'draw -',0]\n",
    "\n",
    "while True:\n",
    "    \n",
    "    me = str(input('me (камень - ножницы - бумага): '))\n",
    "    rnd_list = ['камень', 'ножницы', 'бумага']\n",
    "    computer = random.choice(rnd_list)\n",
    "    \n",
    "    if me == 'выход':\n",
    "        if count[1] > count[3] and count[1] > count[5]:\n",
    "            print('you win in the game')\n",
    "        elif count[3] > count[1] and count[3] > count[5]:\n",
    "            print('computer win in the game')\n",
    "        else:\n",
    "            print('friendship win in the game')\n",
    "        break \n",
    "    else:\n",
    "        if me == 'камень'  and computer == 'камень' or me == 'ножницы'  and computer == 'ножницы' or me == 'бумага'  and computer == 'бумага':\n",
    "            print('computer:',computer, 'result: draw')\n",
    "            count[5] += 1\n",
    "\n",
    "        elif me == 'камень' and computer == 'ножницы' or me == 'ножницы'  and computer == 'бумага' or me == 'бумага'  and computer == 'камень':\n",
    "            print('computer:',computer,\n",
    "                \"\\n\"+'result: you win')\n",
    "            count[1] += 1\n",
    "\n",
    "        else:\n",
    "            print('computer:',computer,\n",
    "                \"\\n\"+'result: computer win')\n",
    "            count[3] += 1\n",
    "\n",
    "        print('me -', count[1], 'computer -', count[3], 'draw -',count[5])    "
   ]
  },
  {
   "cell_type": "code",
   "execution_count": 15,
   "id": "8679765f",
   "metadata": {},
   "outputs": [
    {
     "name": "stdout",
     "output_type": "stream",
     "text": [
      "input first number: 45\n",
      "input number: 67\n",
      "input number: 89\n",
      "input number: 45\n",
      "input number: 345\n",
      "input number: 23\n",
      "input number: 67\n",
      "input number: 45\n",
      "input number: 46\n",
      "input number: 11\n",
      "input number: выход\n",
      "минимальное число:  11\n"
     ]
    }
   ],
   "source": [
    "# 5.\n",
    "# Получите от пользователя вещественные числа, пока он не захочет выйти.\n",
    "# Когда он закончит ввод, выведите наименьшее число в последовательности.\n",
    "# Не используйте списки для этого упражнения.\n",
    "\n",
    "first_n = input('input first number: ')\n",
    "min_n = first_n\n",
    "\n",
    "while True:\n",
    "    \n",
    "    number = input('input number: ')\n",
    "        \n",
    "    if number == 'выход':\n",
    "        print('минимальное число: ', min_n)\n",
    "        break\n",
    "    else: \n",
    "        if number < min_n:\n",
    "            min_n = number\n",
    "        else:\n",
    "            min_n = min_n  "
   ]
  },
  {
   "cell_type": "code",
   "execution_count": 24,
   "id": "1b366fe9",
   "metadata": {},
   "outputs": [
    {
     "name": "stdout",
     "output_type": "stream",
     "text": [
      "90\n",
      "56\n",
      "34\n",
      "input number: 67\n",
      "input number: 78\n",
      "input number: 34\n",
      "input number: 12\n",
      "input number: 89\n",
      "input number: 45\n",
      "input number: выход\n",
      "первое по величине число  90 второе по величине число  89 третье по величине число  78\n"
     ]
    }
   ],
   "source": [
    "# 6.\n",
    "# Получите от пользователя ввод вещественных чисел, пока он не захочет выйти.\n",
    "# Когда он закончит ввод, выведите самое большое число,затем второе по величине число,затем третье по величине число.\n",
    "# Не используйте списки для этого упражнения.\n",
    "\n",
    "x = input()\n",
    "y = input()\n",
    "z = input()\n",
    "first_number = 0\n",
    "second_number = 0\n",
    "third_number = 0\n",
    "\n",
    "if(x > y > z):\n",
    "    first_number = x\n",
    "    second_number = y\n",
    "    third_number = z\n",
    "elif(x > z > y):\n",
    "    first_number = x\n",
    "    second_number = z\n",
    "    third_number = y \n",
    "elif(y > x > z):\n",
    "    first_number = y\n",
    "    second_number = x\n",
    "    third_number = z\n",
    "elif(y > z > x):\n",
    "    first_number = y\n",
    "    second_number = z\n",
    "    third_number = x\n",
    "elif(y > x > z):\n",
    "    first_number = y\n",
    "    second_number = x\n",
    "    third_number = z\n",
    "else:\n",
    "    first_number = z\n",
    "    second_number = y\n",
    "    third_number = x\n",
    "\n",
    "    \n",
    "while True:\n",
    "           \n",
    "    number = input('input number: ')\n",
    "    \n",
    "    if number == 'выход':\n",
    "        print('первое по величине число ', first_number, 'второе по величине число ', second_number, 'третье по величине число ', third_number)\n",
    "        break\n",
    "    else: \n",
    "        if number > first_number:\n",
    "            third_number = second_number\n",
    "            second_number = first_number\n",
    "            first_number = number\n",
    "        elif number > second_number and number < first_number:\n",
    "            third_number = second_number\n",
    "            second_number = number\n",
    "        elif number > third_number and number < second_number:\n",
    "            third_number = number\n",
    "            \n",
    "# Можна ли сделать данное задание другим (более простим в записи) способом?       \n",
    "            "
   ]
  },
  {
   "cell_type": "code",
   "execution_count": 29,
   "id": "35d1df54",
   "metadata": {},
   "outputs": [
    {
     "name": "stdout",
     "output_type": "stream",
     "text": [
      "[1, 2, 3, 5, 7, 11, 13, 17, 19, 23, 29, 31, 37, 41, 43, 47, 53, 59, 61, 67, 71, 73, 79, 83, 89, 97]\n"
     ]
    }
   ],
   "source": [
    "# 6.\n",
    "# Выведите все простые числа от 1 до 100. Постарайтесь сделать вашу программу максимально эффективной,\n",
    "# используя только теи нструменты, которые мы изучили до сих пор. \n",
    "# Например, для каждого числа, которое мы проверяем на простоту, нам нужно только проверить, \n",
    "# делится ли оно на меньшие простыечисла (поэтому нам не нужно проверять деление на 4, 6, 8, 9, 10, ...).\n",
    "\n",
    "number = []\n",
    "\n",
    "for x in range(1,100):\n",
    "    for y in range(2,x):\n",
    "        if x%y == 0:\n",
    "            break\n",
    "    else:\n",
    "        number.append(x)\n",
    "print(number)"
   ]
  }
 ],
 "metadata": {
  "kernelspec": {
   "display_name": "Python 3 (ipykernel)",
   "language": "python",
   "name": "python3"
  },
  "language_info": {
   "codemirror_mode": {
    "name": "ipython",
    "version": 3
   },
   "file_extension": ".py",
   "mimetype": "text/x-python",
   "name": "python",
   "nbconvert_exporter": "python",
   "pygments_lexer": "ipython3",
   "version": "3.9.12"
  }
 },
 "nbformat": 4,
 "nbformat_minor": 5
}
