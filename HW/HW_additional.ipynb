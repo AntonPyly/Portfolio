{
 "cells": [
  {
   "cell_type": "markdown",
   "id": "584a0df8",
   "metadata": {},
   "source": [
    "### 1 \n",
    "Запитайте у користувача два числа:\n",
    "- Довжина сторони квадрата\n",
    "- Радіус кола \n",
    "\n",
    "Виведіть \"True\", якщо периметр кола більше периметра квадрата, інакше \"False\"."
   ]
  },
  {
   "cell_type": "code",
   "execution_count": 1,
   "id": "f0eff773",
   "metadata": {},
   "outputs": [
    {
     "name": "stdout",
     "output_type": "stream",
     "text": [
      "Довжина сторони квадрата: 3\n",
      "Радіус кола: 6\n",
      "True\n"
     ]
    }
   ],
   "source": [
    "a = float(input('Довжина сторони квадрата: '))\n",
    "r = float(input('Радіус кола: '))\n",
    "\n",
    "if float(2*3.14*r) > float(4*a):\n",
    "    print(True)\n",
    "else:\n",
    "    print(False)"
   ]
  },
  {
   "cell_type": "markdown",
   "id": "6153b8d1",
   "metadata": {},
   "source": [
    "### 2\n",
    "Джонні будує паркан. Як вхідні дані запитайте - назву бажаної форми (\"коло\" або \"квадрат\") і довжину паркану Джонні. Виведіть площу, яку покриває паркан Джонні."
   ]
  },
  {
   "cell_type": "code",
   "execution_count": 5,
   "id": "b72859fb",
   "metadata": {},
   "outputs": [
    {
     "name": "stdout",
     "output_type": "stream",
     "text": [
      "коло чи квадрат? квадрат\n",
      "довжина забору? 34\n"
     ]
    },
    {
     "data": {
      "text/plain": [
       "1156.0"
      ]
     },
     "execution_count": 5,
     "metadata": {},
     "output_type": "execute_result"
    }
   ],
   "source": [
    "def S():\n",
    "    a = str(input('коло чи квадрат? '))\n",
    "    l = float(input('довжина забору? '))\n",
    "    return float(l**2) if a == 'квадрат' else float(3.14*(l/2)**2)\n",
    "\n",
    "S()"
   ]
  },
  {
   "cell_type": "markdown",
   "id": "65c0208b",
   "metadata": {},
   "source": [
    "### 3. \n",
    "Запустіть гру «камінь – ножиці – папір» проти комп'ютера. Виведіть переможця."
   ]
  },
  {
   "cell_type": "code",
   "execution_count": 14,
   "id": "1ee78421",
   "metadata": {},
   "outputs": [
    {
     "name": "stdout",
     "output_type": "stream",
     "text": [
      "me камінь – ножиці – папір: камінь\n",
      "computer: камінь \n",
      "result: draw\n"
     ]
    }
   ],
   "source": [
    "import random\n",
    "\n",
    "me = str(input('me камінь – ножиці – папір: '))\n",
    "rnd_list = ['камінь', 'ножиці', 'папір']\n",
    "computer = random.choice(rnd_list)\n",
    "\n",
    "if me == 'камінь'  and computer == 'камінь' \\\n",
    "    or me == 'ножиці'  and computer == 'ножиці' \\\n",
    "    or me == 'папір'  and computer == 'папір':\n",
    "    print('computer:',computer, \"\\n\" + 'result: draw')\n",
    "elif me == 'камінь' and computer == 'ножиці' \\\n",
    "    or me == 'ножиці'  and computer == 'папір' \\\n",
    "    or me == 'папір'  and computer == 'камінь':\n",
    "    print('computer:',computer, \"\\n\" + 'result: you win')\n",
    "else:\n",
    "    print('computer:',computer, \"\\n\"+'result: computer win')"
   ]
  },
  {
   "cell_type": "markdown",
   "id": "f999bf1d",
   "metadata": {},
   "source": [
    "### 4.\n",
    "Запустіть серію ігор «камінь, ножиці, папір», доки користувач не захоче вийти.\\\n",
    "Виведіть статистику після кожної гри (кількість перемог комп'ютера, кількість перемог користувача, кількість нічиїх).\\\n",
    "Коли користувач закінсить гру, виведіть остаточного переможця."
   ]
  },
  {
   "cell_type": "code",
   "execution_count": 18,
   "id": "b8bb3458",
   "metadata": {},
   "outputs": [
    {
     "name": "stdout",
     "output_type": "stream",
     "text": [
      "me вихід або камінь – ножиці – папір: папір\n",
      "computer: ножиці \n",
      "result: computer win\n",
      "me - 0 computer - 1 draw - 0\n",
      "me вихід або камінь – ножиці – папір: ножниці\n",
      "computer: папір \n",
      "result: computer win\n",
      "me - 0 computer - 2 draw - 0\n",
      "me вихід або камінь – ножиці – папір: камінь\n",
      "computer: ножиці \n",
      "result: you win\n",
      "me - 1 computer - 2 draw - 0\n",
      "me вихід або камінь – ножиці – папір: камінь\n",
      "computer: камінь \n",
      "result: draw\n",
      "me - 1 computer - 2 draw - 1\n",
      "me вихід або камінь – ножиці – папір: вихід\n",
      "computer win in the game\n"
     ]
    }
   ],
   "source": [
    "import random\n",
    "\n",
    "count = ['me -', 0, 'computer -', 0, 'draw -',0]\n",
    "\n",
    "while True:\n",
    "    \n",
    "    me = str(input('me вихід або камінь – ножиці – папір: '))\n",
    "    rnd_list = ['камінь', 'ножиці', 'папір']\n",
    "    computer = random.choice(rnd_list)\n",
    "    \n",
    "    if me == 'вихід':\n",
    "        if count[1] > count[3] and count[1] > count[5]:\n",
    "            print('you win in the game')\n",
    "        elif count[3] > count[1] and count[3] > count[5]:\n",
    "            print('computer win in the game')\n",
    "        else:\n",
    "            print('friendship win in the game')\n",
    "        break \n",
    "    else:\n",
    "        if me == 'камінь'  and computer == 'камінь' or me == 'ножиці'  and computer == 'ножиці' or me == 'папір'  and computer == 'папір':\n",
    "            print('computer:',computer, \"\\n\"+'result: draw')\n",
    "            count[5] += 1\n",
    "\n",
    "        elif me == 'камінь' and computer == 'ножиці' or me == 'ножиці'  and computer == 'папір' or me == 'папір'  and computer == 'камінь':\n",
    "            print('computer:',computer,\n",
    "                \"\\n\"+'result: you win')\n",
    "            count[1] += 1\n",
    "\n",
    "        else:\n",
    "            print('computer:',computer,\n",
    "                \"\\n\"+'result: computer win')\n",
    "            count[3] += 1\n",
    "\n",
    "    print('me -', count[1], 'computer -', count[3], 'draw -',count[5])    "
   ]
  },
  {
   "cell_type": "markdown",
   "id": "6f3a23b3",
   "metadata": {},
   "source": [
    "### 5.\n",
    "Отримайте від користувача цілі числа, доки він не захоче вийти.\n",
    "Коли він закінчить введення, виведіть найменше в послідовності.\n",
    "Не використовуйте списки для цієї вправи."
   ]
  },
  {
   "cell_type": "code",
   "execution_count": 21,
   "id": "8679765f",
   "metadata": {},
   "outputs": [
    {
     "name": "stdout",
     "output_type": "stream",
     "text": [
      "введіть перше число: 45\n",
      "введіть число або \"вихід\": 76\n",
      "введіть число або \"вихід\": 23\n",
      "введіть число або \"вихід\": 98\n",
      "введіть число або \"вихід\": 45\n",
      "введіть число або \"вихід\": 1\n",
      "введіть число або \"вихід\": вихід\n",
      "найменше число:  1\n"
     ]
    }
   ],
   "source": [
    "first_n = input('введіть перше число: ')\n",
    "min_n = first_n\n",
    "\n",
    "while True:\n",
    "    \n",
    "    number = input('введіть число або \"вихід\": ')\n",
    "        \n",
    "    if number == 'вихід':\n",
    "        print('найменше число: ', min_n)\n",
    "        break\n",
    "    else: \n",
    "        if number < min_n:\n",
    "            min_n = number\n",
    "        else:\n",
    "            min_n = min_n  "
   ]
  },
  {
   "cell_type": "markdown",
   "id": "8964e93d",
   "metadata": {},
   "source": [
    "### 6.\n",
    "Отримайте від користувача цілі числа, поки він не захоче вийти.\\\n",
    "Коли він закінчить введення, виведіть найбільше число, потім друге за величиною число, потім третє за величиною число.\\\n",
    "**Не використовуйте списки для цієї вправи.**"
   ]
  },
  {
   "cell_type": "code",
   "execution_count": 51,
   "id": "5632f1ab",
   "metadata": {},
   "outputs": [
    {
     "name": "stdout",
     "output_type": "stream",
     "text": [
      "введіть число або \"вихід\": 456\n",
      "введіть число або \"вихід\": 65\n",
      "введіть число або \"вихід\": 234\n",
      "введіть число або \"вихід\": 65\n",
      "введіть число або \"вихід\": 23456\n",
      "введіть число або \"вихід\": 7\n",
      "введіть число або \"вихід\": 345\n",
      "введіть число або \"вихід\": 12\n",
      "введіть число або \"вихід\": 765\n",
      "введіть число або \"вихід\": 345\n",
      "введіть число або \"вихід\": 76543\n",
      "введіть число або \"вихід\": вихід\n",
      "перше за велечиною число:  76543 друге за велечиною число:  23456 третє за велечиною число:  765\n"
     ]
    }
   ],
   "source": [
    "first_number = 0\n",
    "second_number = 0\n",
    "third_number = 0 \n",
    "    \n",
    "while True:           \n",
    "    \n",
    "    number = input('введіть число або \"вихід\": ') \n",
    "    \n",
    "    if number == 'вихід':\n",
    "        print('перше за велечиною число: ', first_number, 'друге за велечиною число: ', second_number, 'третє за велечиною число: ', third_number)\n",
    "        break        \n",
    "    elif int(number) > first_number: \n",
    "        third_number = second_number\n",
    "        second_number = first_number\n",
    "        first_number = int(number)\n",
    "    elif int(number) > second_number and int(number) < first_number:\n",
    "        third_number = second_number\n",
    "        second_number = int(number)\n",
    "    elif int(number) > third_number and int(number) < second_number:\n",
    "        third_number = int(number)\n",
    "    elif int(number) < third_number:\n",
    "        continue"
   ]
  },
  {
   "cell_type": "markdown",
   "id": "bd2067d1",
   "metadata": {},
   "source": [
    "### 7.\n",
    "Виведіть усі прості числа від 1 до 100. Намагайтеся зробити вашу програму максимально ефективною, використовуючи лише інструменти, які ми вивчили. Наприклад, для кожного числа, яке ми перевіряємо на простоту, нам потрібно лише перевірити, чи воно ділиться на менші прості числа (тому нам не потрібно перевіряти поділ на 4, 6, 8, 9, 10, ...)."
   ]
  },
  {
   "cell_type": "code",
   "execution_count": 26,
   "id": "35d1df54",
   "metadata": {},
   "outputs": [
    {
     "name": "stdout",
     "output_type": "stream",
     "text": [
      "[1, 2, 3, 5, 7, 11, 13, 17, 19, 23, 29, 31, 37, 41, 43, 47, 53, 59, 61, 67, 71, 73, 79, 83, 89, 97]\n"
     ]
    }
   ],
   "source": [
    "number = []\n",
    "\n",
    "for x in range(1,100):\n",
    "    for y in range(2,x):\n",
    "        if x%y == 0:\n",
    "            break\n",
    "    else:\n",
    "        number.append(x)\n",
    "print(number)"
   ]
  }
 ],
 "metadata": {
  "kernelspec": {
   "display_name": "Python 3 (ipykernel)",
   "language": "python",
   "name": "python3"
  },
  "language_info": {
   "codemirror_mode": {
    "name": "ipython",
    "version": 3
   },
   "file_extension": ".py",
   "mimetype": "text/x-python",
   "name": "python",
   "nbconvert_exporter": "python",
   "pygments_lexer": "ipython3",
   "version": "3.9.12"
  }
 },
 "nbformat": 4,
 "nbformat_minor": 5
}
