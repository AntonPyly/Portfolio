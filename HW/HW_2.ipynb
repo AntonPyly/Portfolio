{
 "cells": [
  {
   "cell_type": "markdown",
   "id": "bc91a1ee",
   "metadata": {},
   "source": [
    "#### 1. Як вхідні дані запитайте ціле число.\n",
    "Якщо воно ділиться на 3, виведіть \"foo\";\\\n",
    "якщо воно ділиться на 5, виведіть \"bar\";\\\n",
    "якщо воно ділиться на обидва, виведіть ham (а не foo або bar).\n"
   ]
  },
  {
   "cell_type": "code",
   "execution_count": 7,
   "id": "44b03ff1",
   "metadata": {},
   "outputs": [
    {
     "name": "stdout",
     "output_type": "stream",
     "text": [
      "456\n",
      "foo\n"
     ]
    }
   ],
   "source": [
    "x = int(input())\n",
    "\n",
    "if((x % 3 == 0) and (x % 5 != 0)):\n",
    "    print ('foo')\n",
    "elif((x % 5 == 0) and (x % 3 != 0)):\n",
    "    print('bar')\n",
    "elif((x % 5 == 0) and (x % 3 == 0)):\n",
    "    print('ham')\n",
    "else:\n",
    "    print ('False')"
   ]
  },
  {
   "cell_type": "markdown",
   "id": "6e22dd6b",
   "metadata": {},
   "source": [
    "#### 2. Як вхідні дані запитайте два числа і виведіть, яке з них менше і яке більше."
   ]
  },
  {
   "cell_type": "code",
   "execution_count": 8,
   "id": "453386f0",
   "metadata": {},
   "outputs": [
    {
     "name": "stdout",
     "output_type": "stream",
     "text": [
      "345\n",
      "76\n",
      "345 больше 76\n"
     ]
    }
   ],
   "source": [
    "x = int(input())\n",
    "y = int(input())\n",
    "\n",
    "if(x > y):\n",
    "    print(str(x) + ' больше ' + str(y))\n",
    "else:\n",
    "    print(str(y) + ' больше ' + str(x))"
   ]
  },
  {
   "cell_type": "markdown",
   "id": "a1510d68",
   "metadata": {},
   "source": [
    "#### 3. Як вхідні дані запитайте три числа та виведіть найменше, середнє та найбільше. Припустимо, всі вони різні."
   ]
  },
  {
   "cell_type": "code",
   "execution_count": 9,
   "id": "c0a3bbe0",
   "metadata": {},
   "outputs": [
    {
     "name": "stdout",
     "output_type": "stream",
     "text": [
      "234\n",
      "87\n",
      "098\n"
     ]
    },
    {
     "data": {
      "text/plain": [
       "[87, 98, 234]"
      ]
     },
     "execution_count": 9,
     "metadata": {},
     "output_type": "execute_result"
    }
   ],
   "source": [
    "x = int(input())\n",
    "y = int(input())\n",
    "z = int(input())\n",
    "\n",
    "res = sorted([x,y,z])\n",
    "res"
   ]
  },
  {
   "cell_type": "markdown",
   "id": "5efd889c",
   "metadata": {},
   "source": [
    "#### інший варіант:"
   ]
  },
  {
   "cell_type": "code",
   "execution_count": 10,
   "id": "1433bc4e",
   "metadata": {
    "scrolled": true
   },
   "outputs": [
    {
     "name": "stdout",
     "output_type": "stream",
     "text": [
      "65\n",
      "87\n",
      "76\n",
      "87-наибольшее 76-среднее 65-наименьшее \n"
     ]
    }
   ],
   "source": [
    "x = int(input())\n",
    "y = int(input())\n",
    "z = int(input())\n",
    "\n",
    "if(x > y > z):\n",
    "    print(str(x) + '-наибольшее ' + str(y) + '-среднее ' + str(z) + '-наименьшее ')\n",
    "elif(x > z > y):\n",
    "    print(str(x) + '-наибольшее ' + str(z) + '-среднее ' + str(y) + '-наименьшее ')\n",
    "elif(y > x > z):\n",
    "    print(str(y) + '-наибольшее ' + str(x) + '-среднее ' + str(z) + '-наименьшее ')\n",
    "elif(y > z > x):\n",
    "    print(str(y) + '-наибольшее ' + str(z) + '-среднее ' + str(x) + '-наименьшее ')\n",
    "elif(y > x > x):\n",
    "    print(str(z) + '-наибольшее ' + str(x) + '-среднее ' + str(y) + '-наименьшее ')\n",
    "else:\n",
    "    print(str(z) + '-наибольшее ' + str(y) + '-среднее ' + str(x) + '-наименьшее ')\n"
   ]
  },
  {
   "cell_type": "markdown",
   "id": "ccec5763",
   "metadata": {},
   "source": [
    "#### Зіграйте у гру Fizz-Buzz:\n",
    "виведіть усі числа від 1 до 100;\\\n",
    "якщо число ділиться на 3, замість числа виведіть \"fizz\".\\\n",
    "Якщо воно ділиться на 5, замість числа виведіть \"buzz\".\\\n",
    "Якщо воно ділиться на обидва, виведіть \"fizz buzz\" замість числа."
   ]
  },
  {
   "cell_type": "code",
   "execution_count": 11,
   "id": "2068f830",
   "metadata": {},
   "outputs": [
    {
     "name": "stdout",
     "output_type": "stream",
     "text": [
      "1\n",
      "2\n",
      "fizz\n",
      "4\n",
      "buzz\n",
      "fizz\n",
      "7\n",
      "8\n",
      "fizz\n",
      "buzz\n",
      "11\n",
      "fizz\n",
      "13\n",
      "14\n",
      "fizz buzz\n",
      "16\n",
      "17\n",
      "fizz\n",
      "19\n",
      "buzz\n",
      "fizz\n",
      "22\n",
      "23\n",
      "fizz\n",
      "buzz\n",
      "26\n",
      "fizz\n",
      "28\n",
      "29\n",
      "fizz buzz\n",
      "31\n",
      "32\n",
      "fizz\n",
      "34\n",
      "buzz\n",
      "fizz\n",
      "37\n",
      "38\n",
      "fizz\n",
      "buzz\n",
      "41\n",
      "fizz\n",
      "43\n",
      "44\n",
      "fizz buzz\n",
      "46\n",
      "47\n",
      "fizz\n",
      "49\n",
      "buzz\n",
      "fizz\n",
      "52\n",
      "53\n",
      "fizz\n",
      "buzz\n",
      "56\n",
      "fizz\n",
      "58\n",
      "59\n",
      "fizz buzz\n",
      "61\n",
      "62\n",
      "fizz\n",
      "64\n",
      "buzz\n",
      "fizz\n",
      "67\n",
      "68\n",
      "fizz\n",
      "buzz\n",
      "71\n",
      "fizz\n",
      "73\n",
      "74\n",
      "fizz buzz\n",
      "76\n",
      "77\n",
      "fizz\n",
      "79\n",
      "buzz\n",
      "fizz\n",
      "82\n",
      "83\n",
      "fizz\n",
      "buzz\n",
      "86\n",
      "fizz\n",
      "88\n",
      "89\n",
      "fizz buzz\n",
      "91\n",
      "92\n",
      "fizz\n",
      "94\n",
      "buzz\n",
      "fizz\n",
      "97\n",
      "98\n",
      "fizz\n",
      "buzz\n"
     ]
    }
   ],
   "source": [
    "for x in range(1, 101):\n",
    "    if((x % 3 == 0) and (x % 5 != 0)):\n",
    "        print ('fizz')\n",
    "    elif((x % 5 == 0) and (x % 3 != 0)):\n",
    "        print('buzz')\n",
    "    elif((x % 5 == 0) and (x % 3 == 0)):\n",
    "        print('fizz buzz')\n",
    "    else:\n",
    "        print(x)"
   ]
  }
 ],
 "metadata": {
  "kernelspec": {
   "display_name": "Python 3 (ipykernel)",
   "language": "python",
   "name": "python3"
  },
  "language_info": {
   "codemirror_mode": {
    "name": "ipython",
    "version": 3
   },
   "file_extension": ".py",
   "mimetype": "text/x-python",
   "name": "python",
   "nbconvert_exporter": "python",
   "pygments_lexer": "ipython3",
   "version": "3.9.12"
  }
 },
 "nbformat": 4,
 "nbformat_minor": 5
}
