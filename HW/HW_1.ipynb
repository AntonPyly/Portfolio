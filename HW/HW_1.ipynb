{
 "cells": [
  {
   "cell_type": "code",
   "execution_count": 10,
   "id": "7ead0b3c",
   "metadata": {},
   "outputs": [
    {
     "name": "stdout",
     "output_type": "stream",
     "text": [
      "Мишель\n",
      "12345\n"
     ]
    },
    {
     "data": {
      "text/plain": [
       "'Годовая зарплата Мишель составляет 148 тыс. доларов'"
      ]
     },
     "execution_count": 10,
     "metadata": {},
     "output_type": "execute_result"
    }
   ],
   "source": [
    "# Запросите у пользователя имя и месячную зарплату в долларах и выведитеих годовую зарплату в тысячах долларов.\n",
    "# Например:«Мишель»,«12345»→«Годовая зарплата Мишель составляет 148тыс.долларов».\n",
    "\n",
    "x = input()\n",
    "y = int(input())\n",
    "z = 'Годовая зарплата ' + x + ' составляет ' + str(int(y*12/1000)) + ' тыс. доларов'\n",
    "z"
   ]
  },
  {
   "cell_type": "code",
   "execution_count": 16,
   "id": "a6715914",
   "metadata": {},
   "outputs": [
    {
     "name": "stdout",
     "output_type": "stream",
     "text": [
      "345\n",
      "True\n"
     ]
    }
   ],
   "source": [
    "# Запросите целое число и выведите «True», если это четное число в диапазоне  от 100 до 999, в противном случае - «False».\n",
    "\n",
    "x = int(input())\n",
    "if((x >= 100) and (x <= 999)):\n",
    "   print ('True')\n",
    "else:\n",
    "   print ('False')"
   ]
  },
  {
   "cell_type": "code",
   "execution_count": 60,
   "id": "c296a5f2",
   "metadata": {},
   "outputs": [
    {
     "name": "stdout",
     "output_type": "stream",
     "text": [
      "345\n",
      "543\n"
     ]
    }
   ],
   "source": [
    "# В качестве входящих данных возьмем целое число;\n",
    "# Предположим,что это число от 101 до 999, а его последняя цифра не равна нулю. Выведите обратное число. Например: 256 → 652.\n",
    "\n",
    "x = int(input())\n",
    "if((x >= 101) and (x <= 999) and (str(x)[-1] != '0')):\n",
    "   print (str(x)[::-1])\n",
    "else:\n",
    "   print ('False')"
   ]
  },
  {
   "cell_type": "code",
   "execution_count": 69,
   "id": "79358a4a",
   "metadata": {},
   "outputs": [
    {
     "name": "stdout",
     "output_type": "stream",
     "text": [
      "5\n",
      "2\n",
      "7 3 10 2.5 1 True\n"
     ]
    }
   ],
   "source": [
    "# Запросите два целых числа и выведите:\n",
    "# a.Их сумму \n",
    "# b.Их разность\n",
    "# c.Произведение\n",
    "# d.Результат деления первого на второе\n",
    "# e.Остаток от деления первого на второе\n",
    "# f.«True», если первое число больше или равно второму, иначе «False».\n",
    "\n",
    "x = int(input())\n",
    "y = int(input())\n",
    "a = x + y\n",
    "b = x - y\n",
    "c = x * y\n",
    "d = x / y\n",
    "e = x % y\n",
    "f = x >= y\n",
    "print(a,b,c,d,e,f)"
   ]
  },
  {
   "cell_type": "code",
   "execution_count": null,
   "id": "c831cfae",
   "metadata": {},
   "outputs": [],
   "source": []
  }
 ],
 "metadata": {
  "kernelspec": {
   "display_name": "Python 3 (ipykernel)",
   "language": "python",
   "name": "python3"
  },
  "language_info": {
   "codemirror_mode": {
    "name": "ipython",
    "version": 3
   },
   "file_extension": ".py",
   "mimetype": "text/x-python",
   "name": "python",
   "nbconvert_exporter": "python",
   "pygments_lexer": "ipython3",
   "version": "3.9.12"
  }
 },
 "nbformat": 4,
 "nbformat_minor": 5
}
