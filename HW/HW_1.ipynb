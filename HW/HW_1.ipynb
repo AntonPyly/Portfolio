{
 "cells": [
  {
   "cell_type": "markdown",
   "id": "f7581d7c",
   "metadata": {},
   "source": [
    "#### Запросіть у користувача ім'я та місячну зарплату в доларах і виведіть їхню річну зарплату в тисячах доларів. \n",
    "Наприклад: «Мішель», «12345» → «Річна зарплата Мішель складає 148 тис. доларів»."
   ]
  },
  {
   "cell_type": "code",
   "execution_count": 2,
   "id": "7ead0b3c",
   "metadata": {},
   "outputs": [
    {
     "name": "stdout",
     "output_type": "stream",
     "text": [
      "input name: Антон\n",
      "input month salary: 345\n"
     ]
    },
    {
     "data": {
      "text/plain": [
       "'Річна зарплата Антон складає 4 тис. доларів'"
      ]
     },
     "execution_count": 2,
     "metadata": {},
     "output_type": "execute_result"
    }
   ],
   "source": [
    "x = str(input('input name: '))\n",
    "y = int(input('input month salary: '))\n",
    "z = 'Річна зарплата ' + x + ' складає ' + str(int(y*12/1000)) + ' тис. доларів'\n",
    "z"
   ]
  },
  {
   "cell_type": "markdown",
   "id": "f1f76f6c",
   "metadata": {},
   "source": [
    "#### Запитайте ціле число і виведіть True, якщо це парне число в діапазоні від 100 до 999, в іншому випадку - False."
   ]
  },
  {
   "cell_type": "code",
   "execution_count": 3,
   "id": "a6715914",
   "metadata": {},
   "outputs": [
    {
     "name": "stdout",
     "output_type": "stream",
     "text": [
      "input random number: 65\n",
      "False\n"
     ]
    }
   ],
   "source": [
    "x = int(input('input random number: '))\n",
    "\n",
    "if((x >= 100) and (x <= 999)):\n",
    "    print ('True')\n",
    "else:\n",
    "    print ('False')"
   ]
  },
  {
   "cell_type": "markdown",
   "id": "52792fa8",
   "metadata": {},
   "source": [
    "#### Як вхідні дані візьмемо ціле число; Припустимо, що це число від 101 до 999, яке остання цифра не дорівнює нулю. Виведіть зворотне число. Наприклад: 256 → 652."
   ]
  },
  {
   "cell_type": "code",
   "execution_count": 5,
   "id": "553caf45",
   "metadata": {},
   "outputs": [
    {
     "name": "stdout",
     "output_type": "stream",
     "text": [
      "input number between 101 and 999: 234\n",
      "432\n"
     ]
    }
   ],
   "source": [
    "x = int(input('input number between 101 and 999: '))\n",
    "\n",
    "if((x >= 101) and (x <= 999) and (str(x)[-1] != '0')):\n",
    "    print (str(x)[::-1])\n",
    "else:\n",
    "    print ('False')"
   ]
  },
  {
   "cell_type": "markdown",
   "id": "4ecbe104",
   "metadata": {},
   "source": [
    "#### Запитайте два цілих числа і виведіть:\n",
    "a. Їх суму\\\n",
    "b. Їх різницю\\\n",
    "c. Результат множення\\\n",
    "d. Результат ділення першого на друге\\\n",
    "e. Залишок від ділення першого на друге\\\n",
    "f. «True», якщо перше число більше або дорівнює другому, інакше «False». "
   ]
  },
  {
   "cell_type": "code",
   "execution_count": 6,
   "id": "79358a4a",
   "metadata": {},
   "outputs": [
    {
     "name": "stdout",
     "output_type": "stream",
     "text": [
      "first number: 4765\n",
      "second number: 765\n",
      " sum = 5530,\n",
      " diff = 4000,\n",
      " mult = 3645225,\n",
      " div = 6.228758169934641,\n",
      " remainder = 175,\n",
      " is_first_bigger_then_second = True\n"
     ]
    }
   ],
   "source": [
    "x = int(input('first number: '))\n",
    "y = int(input('second number: '))\n",
    "\n",
    "a = x + y\n",
    "b = x - y\n",
    "c = x * y\n",
    "d = x / y\n",
    "e = x % y\n",
    "f = x >= y\n",
    "\n",
    "print(f' sum = {a},\\n diff = {b},\\n mult = {c},\\n div = {d},\\n remainder = {e},\\n is_first_bigger_then_second = {f}')"
   ]
  }
 ],
 "metadata": {
  "kernelspec": {
   "display_name": "Python 3 (ipykernel)",
   "language": "python",
   "name": "python3"
  },
  "language_info": {
   "codemirror_mode": {
    "name": "ipython",
    "version": 3
   },
   "file_extension": ".py",
   "mimetype": "text/x-python",
   "name": "python",
   "nbconvert_exporter": "python",
   "pygments_lexer": "ipython3",
   "version": "3.9.12"
  }
 },
 "nbformat": 4,
 "nbformat_minor": 5
}
