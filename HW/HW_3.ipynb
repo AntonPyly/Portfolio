{
 "cells": [
  {
   "cell_type": "markdown",
   "id": "1a40b504",
   "metadata": {},
   "source": [
    "#### Іспит професора Грубла\n",
    "У класі професора Грубла щойно був іспит.\\\n",
    "Напишіть програму, яка приймає як вхідні дані оцінку кожного учня і те, чи він склав іспит.\\\n",
    "Потім програмі необхідно надрукувати дві речі:\\\n",
    "a. Чи був професор Грубл послідовним у проставленні оцінки “Passed” для студентів.\\\n",
    "b. Якщо професор Грубл був послідовним, виведіть діапазон, де знаходиться поріг для складання іспиту."
   ]
  },
  {
   "cell_type": "code",
   "execution_count": 1,
   "id": "1b7f1b82",
   "metadata": {},
   "outputs": [
    {
     "data": {
      "text/plain": [
       "'Професор Грубл був послідовним, поріг складання іспиту знаходиться в діапазоні 55 - 65 балів'"
      ]
     },
     "execution_count": 1,
     "metadata": {},
     "output_type": "execute_result"
    }
   ],
   "source": [
    "info_1 = [(75, 'Passed'),\n",
    "         (50, 'Passed'),\n",
    "         (60, 'Failed'),\n",
    "         (40, 'Failed'),\n",
    "         (45, 'Failed'),\n",
    "         (90, 'Passed')]\n",
    "\n",
    "info_2 = [(75, 'Passed'),\n",
    "         (65, 'Passed'),\n",
    "         (55, 'Failed'),\n",
    "         (40, 'Failed'),\n",
    "         (45, 'Failed'),\n",
    "         (90, 'Passed')]\n",
    "\n",
    "def test_result(info):\n",
    "    \n",
    "    passed_list = []\n",
    "    failed_list = []\n",
    "\n",
    "    for element in info:\n",
    "        if element[1] == 'Passed':\n",
    "            passed_list.append(element[0])\n",
    "        else:\n",
    "            failed_list.append(element[0])\n",
    "    return 'Професор Грубл не був послідовним у проставленні позначки “Passed” для студентів' \\\n",
    "        if max(failed_list) > min(passed_list) \\\n",
    "    else 'Професор Грубл був послідовним, поріг складання іспиту знаходиться в діапазоні {0} - {1} балів'. \\\n",
    "        format(max(failed_list),min(passed_list))\n",
    "\n",
    "\n",
    "test_result(info_2)"
   ]
  },
  {
   "cell_type": "markdown",
   "id": "a8f4e9cb",
   "metadata": {},
   "source": [
    "#### Інший варіант рішення\n",
    "Генеруємо оцінки студентів від 30 до 100, самі визначаємо мінімальний поріг та виводимо Passed та Faild для кожного студента (у даному випадку професор завжди послідовний)"
   ]
  },
  {
   "cell_type": "code",
   "execution_count": 2,
   "id": "bd96c392",
   "metadata": {},
   "outputs": [
    {
     "name": "stdout",
     "output_type": "stream",
     "text": [
      "Професор Грубл є послідовним у проставленні позначки “Passed” для студентів. Порогова оцінка: 60\n",
      "So student_1, you Passed the exam, your mark is 62\n",
      "So student_2, you Faild the exam, your mark is 43\n",
      "So student_3, you Faild the exam, your mark is 48\n",
      "So student_4, you Passed the exam, your mark is 64\n",
      "So student_5, you Faild the exam, your mark is 41\n",
      "So student_6, you Passed the exam, your mark is 77\n",
      "So student_7, you Passed the exam, your mark is 75\n"
     ]
    }
   ],
   "source": [
    "import random\n",
    "\n",
    "student_list = ('student_1','student_2','student_3','student_4','student_5','student_6','student_7')\n",
    "list_with_all_marks = []\n",
    "passgrade = int(input('Професор Грубл є послідовним у проставленні позначки “Passed” для студентів. Порогова оцінка: '))\n",
    "\n",
    "for student in student_list:\n",
    "    list_with_all_marks.append(random.randrange(30,100))\n",
    "    \n",
    "for e in zip(student_list,list_with_all_marks):\n",
    "    student_name = e[0]\n",
    "    student_mark = e[1]\n",
    "    if student_mark >= passgrade:\n",
    "        print('So {0}, you Passed the exam, your mark is {1}'.format(student_name,student_mark))\n",
    "    else:\n",
    "        print('So {0}, you Faild the exam, your mark is {1}'.format(student_name,student_mark))  "
   ]
  }
 ],
 "metadata": {
  "kernelspec": {
   "display_name": "Python 3 (ipykernel)",
   "language": "python",
   "name": "python3"
  },
  "language_info": {
   "codemirror_mode": {
    "name": "ipython",
    "version": 3
   },
   "file_extension": ".py",
   "mimetype": "text/x-python",
   "name": "python",
   "nbconvert_exporter": "python",
   "pygments_lexer": "ipython3",
   "version": "3.9.12"
  }
 },
 "nbformat": 4,
 "nbformat_minor": 5
}
