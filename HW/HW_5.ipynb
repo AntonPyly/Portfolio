{
 "cells": [
  {
   "cell_type": "code",
   "execution_count": 1,
   "id": "7f80250e",
   "metadata": {},
   "outputs": [],
   "source": [
    "import numpy as np\n",
    "import pandas as pd"
   ]
  },
  {
   "cell_type": "markdown",
   "id": "0e6ec20a",
   "metadata": {},
   "source": [
    "### 1. Завантажити набір даних фільмів в pandas"
   ]
  },
  {
   "cell_type": "code",
   "execution_count": 2,
   "id": "66d2242a",
   "metadata": {},
   "outputs": [
    {
     "data": {
      "text/html": [
       "<div>\n",
       "<style scoped>\n",
       "    .dataframe tbody tr th:only-of-type {\n",
       "        vertical-align: middle;\n",
       "    }\n",
       "\n",
       "    .dataframe tbody tr th {\n",
       "        vertical-align: top;\n",
       "    }\n",
       "\n",
       "    .dataframe thead th {\n",
       "        text-align: right;\n",
       "    }\n",
       "</style>\n",
       "<table border=\"1\" class=\"dataframe\">\n",
       "  <thead>\n",
       "    <tr style=\"text-align: right;\">\n",
       "      <th></th>\n",
       "      <th>Film</th>\n",
       "      <th>Genre</th>\n",
       "      <th>Lead Studio</th>\n",
       "      <th>Audience score %</th>\n",
       "      <th>Profitability</th>\n",
       "      <th>Rotten Tomatoes %</th>\n",
       "      <th>Worldwide Gross</th>\n",
       "      <th>Year</th>\n",
       "    </tr>\n",
       "  </thead>\n",
       "  <tbody>\n",
       "    <tr>\n",
       "      <th>0</th>\n",
       "      <td>Zack and Miri Make a Porno</td>\n",
       "      <td>Romance</td>\n",
       "      <td>The Weinstein Company</td>\n",
       "      <td>70</td>\n",
       "      <td>1.747542</td>\n",
       "      <td>64</td>\n",
       "      <td>$41.94</td>\n",
       "      <td>2008</td>\n",
       "    </tr>\n",
       "    <tr>\n",
       "      <th>1</th>\n",
       "      <td>Youth in Revolt</td>\n",
       "      <td>Comedy</td>\n",
       "      <td>The Weinstein Company</td>\n",
       "      <td>52</td>\n",
       "      <td>1.090000</td>\n",
       "      <td>68</td>\n",
       "      <td>$19.62</td>\n",
       "      <td>2010</td>\n",
       "    </tr>\n",
       "    <tr>\n",
       "      <th>2</th>\n",
       "      <td>You Will Meet a Tall Dark Stranger</td>\n",
       "      <td>Comedy</td>\n",
       "      <td>Independent</td>\n",
       "      <td>35</td>\n",
       "      <td>1.211818</td>\n",
       "      <td>43</td>\n",
       "      <td>$26.66</td>\n",
       "      <td>2010</td>\n",
       "    </tr>\n",
       "    <tr>\n",
       "      <th>3</th>\n",
       "      <td>When in Rome</td>\n",
       "      <td>Comedy</td>\n",
       "      <td>Disney</td>\n",
       "      <td>44</td>\n",
       "      <td>0.000000</td>\n",
       "      <td>15</td>\n",
       "      <td>$43.04</td>\n",
       "      <td>2010</td>\n",
       "    </tr>\n",
       "    <tr>\n",
       "      <th>4</th>\n",
       "      <td>What Happens in Vegas</td>\n",
       "      <td>Comedy</td>\n",
       "      <td>Fox</td>\n",
       "      <td>72</td>\n",
       "      <td>6.267647</td>\n",
       "      <td>28</td>\n",
       "      <td>$219.37</td>\n",
       "      <td>2008</td>\n",
       "    </tr>\n",
       "    <tr>\n",
       "      <th>5</th>\n",
       "      <td>Water For Elephants</td>\n",
       "      <td>Drama</td>\n",
       "      <td>20th Century Fox</td>\n",
       "      <td>72</td>\n",
       "      <td>3.081421</td>\n",
       "      <td>60</td>\n",
       "      <td>$117.09</td>\n",
       "      <td>2011</td>\n",
       "    </tr>\n",
       "    <tr>\n",
       "      <th>6</th>\n",
       "      <td>WALL-E</td>\n",
       "      <td>Animation</td>\n",
       "      <td>Disney</td>\n",
       "      <td>89</td>\n",
       "      <td>2.896019</td>\n",
       "      <td>96</td>\n",
       "      <td>$521.28</td>\n",
       "      <td>2008</td>\n",
       "    </tr>\n",
       "    <tr>\n",
       "      <th>7</th>\n",
       "      <td>Waitress</td>\n",
       "      <td>Romance</td>\n",
       "      <td>Independent</td>\n",
       "      <td>67</td>\n",
       "      <td>11.089742</td>\n",
       "      <td>89</td>\n",
       "      <td>$22.18</td>\n",
       "      <td>2007</td>\n",
       "    </tr>\n",
       "    <tr>\n",
       "      <th>8</th>\n",
       "      <td>Waiting For Forever</td>\n",
       "      <td>Romance</td>\n",
       "      <td>Independent</td>\n",
       "      <td>53</td>\n",
       "      <td>0.005000</td>\n",
       "      <td>6</td>\n",
       "      <td>$0.03</td>\n",
       "      <td>2011</td>\n",
       "    </tr>\n",
       "    <tr>\n",
       "      <th>9</th>\n",
       "      <td>Valentine's Day</td>\n",
       "      <td>Comedy</td>\n",
       "      <td>Warner Bros.</td>\n",
       "      <td>54</td>\n",
       "      <td>4.184038</td>\n",
       "      <td>17</td>\n",
       "      <td>$217.57</td>\n",
       "      <td>2010</td>\n",
       "    </tr>\n",
       "  </tbody>\n",
       "</table>\n",
       "</div>"
      ],
      "text/plain": [
       "                                 Film      Genre            Lead Studio  \\\n",
       "0          Zack and Miri Make a Porno    Romance  The Weinstein Company   \n",
       "1                     Youth in Revolt     Comedy  The Weinstein Company   \n",
       "2  You Will Meet a Tall Dark Stranger     Comedy            Independent   \n",
       "3                        When in Rome     Comedy                 Disney   \n",
       "4               What Happens in Vegas     Comedy                    Fox   \n",
       "5                 Water For Elephants      Drama       20th Century Fox   \n",
       "6                              WALL-E  Animation                 Disney   \n",
       "7                            Waitress    Romance            Independent   \n",
       "8                 Waiting For Forever    Romance            Independent   \n",
       "9                     Valentine's Day     Comedy           Warner Bros.   \n",
       "\n",
       "   Audience score %  Profitability  Rotten Tomatoes % Worldwide Gross  Year  \n",
       "0                70       1.747542                 64         $41.94   2008  \n",
       "1                52       1.090000                 68         $19.62   2010  \n",
       "2                35       1.211818                 43         $26.66   2010  \n",
       "3                44       0.000000                 15         $43.04   2010  \n",
       "4                72       6.267647                 28        $219.37   2008  \n",
       "5                72       3.081421                 60        $117.09   2011  \n",
       "6                89       2.896019                 96        $521.28   2008  \n",
       "7                67      11.089742                 89         $22.18   2007  \n",
       "8                53       0.005000                  6          $0.03   2011  \n",
       "9                54       4.184038                 17        $217.57   2010  "
      ]
     },
     "execution_count": 2,
     "metadata": {},
     "output_type": "execute_result"
    }
   ],
   "source": [
    "movies = pd.read_csv('https://gist.githubusercontent.com/tiangechen/b68782efa49a16edaf07dc2cdaa855ea/raw/0c794a9717f18b094eabab2cd6a6b9a226903577/movies.csv')\n",
    "movies.head(10)"
   ]
  },
  {
   "cell_type": "markdown",
   "id": "e65cf376",
   "metadata": {},
   "source": [
    "### 2. Перерахуйте всі стовбчики набору даних та дослідіть їх типи даних. Дослідіть статистику по різних областях."
   ]
  },
  {
   "cell_type": "code",
   "execution_count": 5,
   "id": "2804d23e",
   "metadata": {},
   "outputs": [
    {
     "name": "stdout",
     "output_type": "stream",
     "text": [
      "Film\n",
      "Genre\n",
      "Lead Studio\n",
      "Audience score %\n",
      "Profitability\n",
      "Rotten Tomatoes %\n",
      "Worldwide Gross\n",
      "Year\n"
     ]
    }
   ],
   "source": [
    "for i in movies.columns:\n",
    "    print(i)"
   ]
  },
  {
   "cell_type": "code",
   "execution_count": 4,
   "id": "58ea47c9",
   "metadata": {},
   "outputs": [
    {
     "name": "stdout",
     "output_type": "stream",
     "text": [
      "<class 'pandas.core.frame.DataFrame'>\n",
      "RangeIndex: 77 entries, 0 to 76\n",
      "Data columns (total 8 columns):\n",
      " #   Column             Non-Null Count  Dtype  \n",
      "---  ------             --------------  -----  \n",
      " 0   Film               77 non-null     object \n",
      " 1   Genre              77 non-null     object \n",
      " 2   Lead Studio        77 non-null     object \n",
      " 3   Audience score %   77 non-null     int64  \n",
      " 4   Profitability      77 non-null     float64\n",
      " 5   Rotten Tomatoes %  77 non-null     int64  \n",
      " 6   Worldwide Gross    77 non-null     object \n",
      " 7   Year               77 non-null     int64  \n",
      "dtypes: float64(1), int64(3), object(4)\n",
      "memory usage: 4.9+ KB\n"
     ]
    }
   ],
   "source": [
    "movies.info()"
   ]
  },
  {
   "cell_type": "code",
   "execution_count": 5,
   "id": "e9b7b773",
   "metadata": {},
   "outputs": [
    {
     "data": {
      "text/plain": [
       "Film                 0\n",
       "Genre                0\n",
       "Lead Studio          0\n",
       "Audience score %     0\n",
       "Profitability        0\n",
       "Rotten Tomatoes %    0\n",
       "Worldwide Gross      0\n",
       "Year                 0\n",
       "dtype: int64"
      ]
     },
     "execution_count": 5,
     "metadata": {},
     "output_type": "execute_result"
    }
   ],
   "source": [
    "movies.isna().sum()"
   ]
  },
  {
   "cell_type": "code",
   "execution_count": 6,
   "id": "bf05d1ca",
   "metadata": {},
   "outputs": [
    {
     "name": "stdout",
     "output_type": "stream",
     "text": [
      "['Romance' 'Comedy' 'Drama' 'Animation' 'Fantasy' 'Romence' 'Comdy'\n",
      " 'Action' 'romance' 'comedy']\n",
      "['The Weinstein Company' 'Independent' 'Disney' 'Fox' '20th Century Fox'\n",
      " 'Warner Bros.' 'Summit' 'Paramount' 'CBS' 'New Line' 'Sony' 'Universal'\n",
      " 'Lionsgate']\n",
      "[2008 2010 2011 2007 2009]\n"
     ]
    }
   ],
   "source": [
    "print(movies['Genre'].unique())\n",
    "\n",
    "print(movies['Lead Studio'].unique())\n",
    "\n",
    "print(movies['Year'].unique())"
   ]
  },
  {
   "cell_type": "markdown",
   "id": "00581617",
   "metadata": {},
   "source": [
    "### 3. Скільки всього фільмів в наборі даних?"
   ]
  },
  {
   "cell_type": "code",
   "execution_count": 7,
   "id": "ab40e3d6",
   "metadata": {},
   "outputs": [
    {
     "data": {
      "text/plain": [
       "75"
      ]
     },
     "execution_count": 7,
     "metadata": {},
     "output_type": "execute_result"
    }
   ],
   "source": [
    "len(movies['Film'].value_counts())"
   ]
  },
  {
   "cell_type": "code",
   "execution_count": 7,
   "id": "6456648b",
   "metadata": {},
   "outputs": [
    {
     "data": {
      "text/plain": [
       "Mamma Mia!                    2\n",
       "Gnomeo and Juliet             2\n",
       "Zack and Miri Make a Porno    1\n",
       "Love & Other Drugs            1\n",
       "Killers                       1\n",
       "                             ..\n",
       "She's Out of My League        1\n",
       "Something Borrowed            1\n",
       "Tangled                       1\n",
       "The Back-up Plan              1\n",
       "(500) Days of Summer          1\n",
       "Name: Film, Length: 75, dtype: int64"
      ]
     },
     "execution_count": 7,
     "metadata": {},
     "output_type": "execute_result"
    }
   ],
   "source": [
    "movies['Film'].value_counts()"
   ]
  },
  {
   "cell_type": "code",
   "execution_count": 9,
   "id": "cf92c5b7",
   "metadata": {},
   "outputs": [
    {
     "data": {
      "text/html": [
       "<div>\n",
       "<style scoped>\n",
       "    .dataframe tbody tr th:only-of-type {\n",
       "        vertical-align: middle;\n",
       "    }\n",
       "\n",
       "    .dataframe tbody tr th {\n",
       "        vertical-align: top;\n",
       "    }\n",
       "\n",
       "    .dataframe thead th {\n",
       "        text-align: right;\n",
       "    }\n",
       "</style>\n",
       "<table border=\"1\" class=\"dataframe\">\n",
       "  <thead>\n",
       "    <tr style=\"text-align: right;\">\n",
       "      <th></th>\n",
       "      <th>Film</th>\n",
       "      <th>Genre</th>\n",
       "      <th>Lead Studio</th>\n",
       "      <th>Audience score %</th>\n",
       "      <th>Profitability</th>\n",
       "      <th>Rotten Tomatoes %</th>\n",
       "      <th>Worldwide Gross</th>\n",
       "      <th>Year</th>\n",
       "    </tr>\n",
       "  </thead>\n",
       "  <tbody>\n",
       "    <tr>\n",
       "      <th>45</th>\n",
       "      <td>Mamma Mia!</td>\n",
       "      <td>Comedy</td>\n",
       "      <td>Universal</td>\n",
       "      <td>76</td>\n",
       "      <td>9.234454</td>\n",
       "      <td>53</td>\n",
       "      <td>$609.47</td>\n",
       "      <td>2008</td>\n",
       "    </tr>\n",
       "    <tr>\n",
       "      <th>46</th>\n",
       "      <td>Mamma Mia!</td>\n",
       "      <td>Comedy</td>\n",
       "      <td>Universal</td>\n",
       "      <td>76</td>\n",
       "      <td>9.234454</td>\n",
       "      <td>53</td>\n",
       "      <td>$609.47</td>\n",
       "      <td>2008</td>\n",
       "    </tr>\n",
       "    <tr>\n",
       "      <th>64</th>\n",
       "      <td>Gnomeo and Juliet</td>\n",
       "      <td>Animation</td>\n",
       "      <td>Disney</td>\n",
       "      <td>52</td>\n",
       "      <td>5.387972</td>\n",
       "      <td>56</td>\n",
       "      <td>$193.97</td>\n",
       "      <td>2011</td>\n",
       "    </tr>\n",
       "    <tr>\n",
       "      <th>65</th>\n",
       "      <td>Gnomeo and Juliet</td>\n",
       "      <td>Animation</td>\n",
       "      <td>Disney</td>\n",
       "      <td>52</td>\n",
       "      <td>5.387972</td>\n",
       "      <td>56</td>\n",
       "      <td>$193.97</td>\n",
       "      <td>2011</td>\n",
       "    </tr>\n",
       "  </tbody>\n",
       "</table>\n",
       "</div>"
      ],
      "text/plain": [
       "                 Film      Genre Lead Studio  Audience score %  Profitability  \\\n",
       "45         Mamma Mia!     Comedy   Universal                76       9.234454   \n",
       "46         Mamma Mia!     Comedy   Universal                76       9.234454   \n",
       "64  Gnomeo and Juliet  Animation      Disney                52       5.387972   \n",
       "65  Gnomeo and Juliet  Animation      Disney                52       5.387972   \n",
       "\n",
       "    Rotten Tomatoes % Worldwide Gross  Year  \n",
       "45                 53        $609.47   2008  \n",
       "46                 53        $609.47   2008  \n",
       "64                 56        $193.97   2011  \n",
       "65                 56        $193.97   2011  "
      ]
     },
     "execution_count": 9,
     "metadata": {},
     "output_type": "execute_result"
    }
   ],
   "source": [
    "movies[movies['Film'].isin(['Mamma Mia!','Gnomeo and Juliet'])]"
   ]
  },
  {
   "cell_type": "markdown",
   "id": "7ec90136",
   "metadata": {},
   "source": [
    "### 4. Скільки фільмів в наборі даних за кожен рік?"
   ]
  },
  {
   "cell_type": "code",
   "execution_count": 10,
   "id": "61cb37a2",
   "metadata": {},
   "outputs": [
    {
     "data": {
      "text/plain": [
       "Year\n",
       "2007    11\n",
       "2008    20\n",
       "2009    12\n",
       "2010    20\n",
       "2011    14\n",
       "Name: Film, dtype: int64"
      ]
     },
     "execution_count": 10,
     "metadata": {},
     "output_type": "execute_result"
    }
   ],
   "source": [
    "movies.groupby('Year').count()['Film']"
   ]
  },
  {
   "cell_type": "markdown",
   "id": "6ed3f255",
   "metadata": {},
   "source": [
    "### 5. Покажіть детальну інформацію про найбільш та найменш прибуткові фільми в наборі даних"
   ]
  },
  {
   "cell_type": "code",
   "execution_count": 10,
   "id": "33c043aa",
   "metadata": {},
   "outputs": [
    {
     "name": "stderr",
     "output_type": "stream",
     "text": [
      "C:\\Users\\Anton\\AppData\\Local\\Temp\\ipykernel_20028\\2189506666.py:1: FutureWarning: The default value of regex will change from True to False in a future version. In addition, single character regular expressions will *not* be treated as literal strings when regex=True.\n",
      "  movies[\"Worldwide Gross\"] = movies[\"Worldwide Gross\"].str.replace(\"$\",\"\")\n"
     ]
    },
    {
     "data": {
      "text/html": [
       "<div>\n",
       "<style scoped>\n",
       "    .dataframe tbody tr th:only-of-type {\n",
       "        vertical-align: middle;\n",
       "    }\n",
       "\n",
       "    .dataframe tbody tr th {\n",
       "        vertical-align: top;\n",
       "    }\n",
       "\n",
       "    .dataframe thead th {\n",
       "        text-align: right;\n",
       "    }\n",
       "</style>\n",
       "<table border=\"1\" class=\"dataframe\">\n",
       "  <thead>\n",
       "    <tr style=\"text-align: right;\">\n",
       "      <th></th>\n",
       "      <th>Film</th>\n",
       "      <th>Genre</th>\n",
       "      <th>Lead Studio</th>\n",
       "      <th>Audience score %</th>\n",
       "      <th>Profitability</th>\n",
       "      <th>Rotten Tomatoes %</th>\n",
       "      <th>Worldwide Gross</th>\n",
       "      <th>Year</th>\n",
       "    </tr>\n",
       "  </thead>\n",
       "  <tbody>\n",
       "    <tr>\n",
       "      <th>0</th>\n",
       "      <td>Zack and Miri Make a Porno</td>\n",
       "      <td>Romance</td>\n",
       "      <td>The Weinstein Company</td>\n",
       "      <td>70</td>\n",
       "      <td>1.747542</td>\n",
       "      <td>64</td>\n",
       "      <td>41.94</td>\n",
       "      <td>2008</td>\n",
       "    </tr>\n",
       "    <tr>\n",
       "      <th>1</th>\n",
       "      <td>Youth in Revolt</td>\n",
       "      <td>Comedy</td>\n",
       "      <td>The Weinstein Company</td>\n",
       "      <td>52</td>\n",
       "      <td>1.090000</td>\n",
       "      <td>68</td>\n",
       "      <td>19.62</td>\n",
       "      <td>2010</td>\n",
       "    </tr>\n",
       "    <tr>\n",
       "      <th>2</th>\n",
       "      <td>You Will Meet a Tall Dark Stranger</td>\n",
       "      <td>Comedy</td>\n",
       "      <td>Independent</td>\n",
       "      <td>35</td>\n",
       "      <td>1.211818</td>\n",
       "      <td>43</td>\n",
       "      <td>26.66</td>\n",
       "      <td>2010</td>\n",
       "    </tr>\n",
       "  </tbody>\n",
       "</table>\n",
       "</div>"
      ],
      "text/plain": [
       "                                 Film    Genre            Lead Studio  \\\n",
       "0          Zack and Miri Make a Porno  Romance  The Weinstein Company   \n",
       "1                     Youth in Revolt   Comedy  The Weinstein Company   \n",
       "2  You Will Meet a Tall Dark Stranger   Comedy            Independent   \n",
       "\n",
       "   Audience score %  Profitability  Rotten Tomatoes %  Worldwide Gross  Year  \n",
       "0                70       1.747542                 64            41.94  2008  \n",
       "1                52       1.090000                 68            19.62  2010  \n",
       "2                35       1.211818                 43            26.66  2010  "
      ]
     },
     "execution_count": 10,
     "metadata": {},
     "output_type": "execute_result"
    }
   ],
   "source": [
    "movies[\"Worldwide Gross\"] = movies[\"Worldwide Gross\"].str.replace(\"$\",\"\")\n",
    "movies[\"Worldwide Gross\"] = movies[\"Worldwide Gross\"].astype(float)\n",
    "movies.head(3)"
   ]
  },
  {
   "cell_type": "code",
   "execution_count": 12,
   "id": "15f163e2",
   "metadata": {},
   "outputs": [
    {
     "data": {
      "text/html": [
       "<div>\n",
       "<style scoped>\n",
       "    .dataframe tbody tr th:only-of-type {\n",
       "        vertical-align: middle;\n",
       "    }\n",
       "\n",
       "    .dataframe tbody tr th {\n",
       "        vertical-align: top;\n",
       "    }\n",
       "\n",
       "    .dataframe thead th {\n",
       "        text-align: right;\n",
       "    }\n",
       "</style>\n",
       "<table border=\"1\" class=\"dataframe\">\n",
       "  <thead>\n",
       "    <tr style=\"text-align: right;\">\n",
       "      <th></th>\n",
       "      <th>Film</th>\n",
       "      <th>Genre</th>\n",
       "      <th>Lead Studio</th>\n",
       "      <th>Audience score %</th>\n",
       "      <th>Profitability</th>\n",
       "      <th>Rotten Tomatoes %</th>\n",
       "      <th>Worldwide Gross</th>\n",
       "      <th>Year</th>\n",
       "    </tr>\n",
       "  </thead>\n",
       "  <tbody>\n",
       "    <tr>\n",
       "      <th>14</th>\n",
       "      <td>The Twilight Saga: New Moon</td>\n",
       "      <td>Drama</td>\n",
       "      <td>Summit</td>\n",
       "      <td>78</td>\n",
       "      <td>14.196400</td>\n",
       "      <td>27</td>\n",
       "      <td>709.82</td>\n",
       "      <td>2009</td>\n",
       "    </tr>\n",
       "    <tr>\n",
       "      <th>11</th>\n",
       "      <td>Twilight: Breaking Dawn</td>\n",
       "      <td>Romance</td>\n",
       "      <td>Independent</td>\n",
       "      <td>68</td>\n",
       "      <td>6.383364</td>\n",
       "      <td>26</td>\n",
       "      <td>702.17</td>\n",
       "      <td>2011</td>\n",
       "    </tr>\n",
       "    <tr>\n",
       "      <th>45</th>\n",
       "      <td>Mamma Mia!</td>\n",
       "      <td>Comedy</td>\n",
       "      <td>Universal</td>\n",
       "      <td>76</td>\n",
       "      <td>9.234454</td>\n",
       "      <td>53</td>\n",
       "      <td>609.47</td>\n",
       "      <td>2008</td>\n",
       "    </tr>\n",
       "    <tr>\n",
       "      <th>46</th>\n",
       "      <td>Mamma Mia!</td>\n",
       "      <td>Comedy</td>\n",
       "      <td>Universal</td>\n",
       "      <td>76</td>\n",
       "      <td>9.234454</td>\n",
       "      <td>53</td>\n",
       "      <td>609.47</td>\n",
       "      <td>2008</td>\n",
       "    </tr>\n",
       "    <tr>\n",
       "      <th>6</th>\n",
       "      <td>WALL-E</td>\n",
       "      <td>Animation</td>\n",
       "      <td>Disney</td>\n",
       "      <td>89</td>\n",
       "      <td>2.896019</td>\n",
       "      <td>96</td>\n",
       "      <td>521.28</td>\n",
       "      <td>2008</td>\n",
       "    </tr>\n",
       "  </tbody>\n",
       "</table>\n",
       "</div>"
      ],
      "text/plain": [
       "                           Film      Genre  Lead Studio  Audience score %  \\\n",
       "14  The Twilight Saga: New Moon      Drama       Summit                78   \n",
       "11      Twilight: Breaking Dawn    Romance  Independent                68   \n",
       "45                   Mamma Mia!     Comedy    Universal                76   \n",
       "46                   Mamma Mia!     Comedy    Universal                76   \n",
       "6                        WALL-E  Animation       Disney                89   \n",
       "\n",
       "    Profitability  Rotten Tomatoes %  Worldwide Gross  Year  \n",
       "14      14.196400                 27           709.82  2009  \n",
       "11       6.383364                 26           702.17  2011  \n",
       "45       9.234454                 53           609.47  2008  \n",
       "46       9.234454                 53           609.47  2008  \n",
       "6        2.896019                 96           521.28  2008  "
      ]
     },
     "execution_count": 12,
     "metadata": {},
     "output_type": "execute_result"
    }
   ],
   "source": [
    "movies.nlargest(5,'Worldwide Gross') # Найбільш прибуткові"
   ]
  },
  {
   "cell_type": "code",
   "execution_count": 11,
   "id": "fe54d5d5",
   "metadata": {},
   "outputs": [
    {
     "data": {
      "text/html": [
       "<div>\n",
       "<style scoped>\n",
       "    .dataframe tbody tr th:only-of-type {\n",
       "        vertical-align: middle;\n",
       "    }\n",
       "\n",
       "    .dataframe tbody tr th {\n",
       "        vertical-align: top;\n",
       "    }\n",
       "\n",
       "    .dataframe thead th {\n",
       "        text-align: right;\n",
       "    }\n",
       "</style>\n",
       "<table border=\"1\" class=\"dataframe\">\n",
       "  <thead>\n",
       "    <tr style=\"text-align: right;\">\n",
       "      <th></th>\n",
       "      <th>Film</th>\n",
       "      <th>Genre</th>\n",
       "      <th>Lead Studio</th>\n",
       "      <th>Audience score %</th>\n",
       "      <th>Profitability</th>\n",
       "      <th>Rotten Tomatoes %</th>\n",
       "      <th>Worldwide Gross</th>\n",
       "      <th>Year</th>\n",
       "    </tr>\n",
       "  </thead>\n",
       "  <tbody>\n",
       "    <tr>\n",
       "      <th>8</th>\n",
       "      <td>Waiting For Forever</td>\n",
       "      <td>Romance</td>\n",
       "      <td>Independent</td>\n",
       "      <td>53</td>\n",
       "      <td>0.005000</td>\n",
       "      <td>6</td>\n",
       "      <td>0.03</td>\n",
       "      <td>2011</td>\n",
       "    </tr>\n",
       "    <tr>\n",
       "      <th>39</th>\n",
       "      <td>My Week with Marilyn</td>\n",
       "      <td>Drama</td>\n",
       "      <td>The Weinstein Company</td>\n",
       "      <td>84</td>\n",
       "      <td>0.825800</td>\n",
       "      <td>83</td>\n",
       "      <td>8.26</td>\n",
       "      <td>2011</td>\n",
       "    </tr>\n",
       "    <tr>\n",
       "      <th>74</th>\n",
       "      <td>A Dangerous Method</td>\n",
       "      <td>Drama</td>\n",
       "      <td>Independent</td>\n",
       "      <td>89</td>\n",
       "      <td>0.448645</td>\n",
       "      <td>79</td>\n",
       "      <td>8.97</td>\n",
       "      <td>2011</td>\n",
       "    </tr>\n",
       "    <tr>\n",
       "      <th>35</th>\n",
       "      <td>Not Easily Broken</td>\n",
       "      <td>Drama</td>\n",
       "      <td>Independent</td>\n",
       "      <td>66</td>\n",
       "      <td>2.140000</td>\n",
       "      <td>34</td>\n",
       "      <td>10.70</td>\n",
       "      <td>2009</td>\n",
       "    </tr>\n",
       "    <tr>\n",
       "      <th>71</th>\n",
       "      <td>Beginners</td>\n",
       "      <td>Comedy</td>\n",
       "      <td>Independent</td>\n",
       "      <td>80</td>\n",
       "      <td>4.471875</td>\n",
       "      <td>84</td>\n",
       "      <td>14.31</td>\n",
       "      <td>2011</td>\n",
       "    </tr>\n",
       "  </tbody>\n",
       "</table>\n",
       "</div>"
      ],
      "text/plain": [
       "                    Film    Genre            Lead Studio  Audience score %  \\\n",
       "8    Waiting For Forever  Romance            Independent                53   \n",
       "39  My Week with Marilyn    Drama  The Weinstein Company                84   \n",
       "74    A Dangerous Method    Drama            Independent                89   \n",
       "35     Not Easily Broken    Drama            Independent                66   \n",
       "71             Beginners   Comedy            Independent                80   \n",
       "\n",
       "    Profitability  Rotten Tomatoes %  Worldwide Gross  Year  \n",
       "8        0.005000                  6             0.03  2011  \n",
       "39       0.825800                 83             8.26  2011  \n",
       "74       0.448645                 79             8.97  2011  \n",
       "35       2.140000                 34            10.70  2009  \n",
       "71       4.471875                 84            14.31  2011  "
      ]
     },
     "execution_count": 11,
     "metadata": {},
     "output_type": "execute_result"
    }
   ],
   "source": [
    "movies.nsmallest(5,'Worldwide Gross') # Найменш прибуткові"
   ]
  },
  {
   "cell_type": "markdown",
   "id": "557a445c",
   "metadata": {},
   "source": [
    "### 6. Значення \"жанр\" інколи здаються непослідовними. Спробуйте знайти ці невідповідності та виправте їх"
   ]
  },
  {
   "cell_type": "code",
   "execution_count": 12,
   "id": "4db44b54",
   "metadata": {},
   "outputs": [
    {
     "data": {
      "text/plain": [
       "array(['Romance', 'Comedy', 'Drama', 'Animation', 'Fantasy', 'Romence',\n",
       "       'Comdy', 'Action', 'romance', 'comedy'], dtype=object)"
      ]
     },
     "execution_count": 12,
     "metadata": {},
     "output_type": "execute_result"
    }
   ],
   "source": [
    "movies['Genre'].unique()"
   ]
  },
  {
   "cell_type": "code",
   "execution_count": 13,
   "id": "af1df2aa",
   "metadata": {},
   "outputs": [
    {
     "data": {
      "text/plain": [
       "Comedy       41\n",
       "Romance      13\n",
       "Drama        13\n",
       "Animation     4\n",
       "Fantasy       1\n",
       "Romence       1\n",
       "Comdy         1\n",
       "Action        1\n",
       "romance       1\n",
       "comedy        1\n",
       "Name: Genre, dtype: int64"
      ]
     },
     "execution_count": 13,
     "metadata": {},
     "output_type": "execute_result"
    }
   ],
   "source": [
    "movies['Genre'].value_counts()"
   ]
  },
  {
   "cell_type": "code",
   "execution_count": 14,
   "id": "0ee0404a",
   "metadata": {},
   "outputs": [],
   "source": [
    "movies.replace('Romence','Romance', inplace=True)"
   ]
  },
  {
   "cell_type": "code",
   "execution_count": 15,
   "id": "f1748017",
   "metadata": {},
   "outputs": [],
   "source": [
    "movies.replace('romance','Romance', inplace=True)"
   ]
  },
  {
   "cell_type": "code",
   "execution_count": 16,
   "id": "852c44fb",
   "metadata": {},
   "outputs": [],
   "source": [
    "movies.replace('romance','Romance', inplace=True)"
   ]
  },
  {
   "cell_type": "code",
   "execution_count": 17,
   "id": "3678a68f",
   "metadata": {},
   "outputs": [],
   "source": [
    "movies.replace(['Comdy','comedy'], 'Comedy', inplace=True)"
   ]
  },
  {
   "cell_type": "code",
   "execution_count": 18,
   "id": "e0e41edf",
   "metadata": {},
   "outputs": [
    {
     "data": {
      "text/plain": [
       "Comedy       43\n",
       "Romance      15\n",
       "Drama        13\n",
       "Animation     4\n",
       "Fantasy       1\n",
       "Action        1\n",
       "Name: Genre, dtype: int64"
      ]
     },
     "execution_count": 18,
     "metadata": {},
     "output_type": "execute_result"
    }
   ],
   "source": [
    "movies['Genre'].value_counts()"
   ]
  },
  {
   "cell_type": "markdown",
   "id": "df35180f",
   "metadata": {},
   "source": [
    "### 7. Збережіть (в новий файл csv) 10 найкращих комедій по кількості глядачів. Вкажіть лише назву фільму, рік та студію"
   ]
  },
  {
   "cell_type": "code",
   "execution_count": 20,
   "id": "9ca51cc5",
   "metadata": {},
   "outputs": [
    {
     "data": {
      "text/html": [
       "<div>\n",
       "<style scoped>\n",
       "    .dataframe tbody tr th:only-of-type {\n",
       "        vertical-align: middle;\n",
       "    }\n",
       "\n",
       "    .dataframe tbody tr th {\n",
       "        vertical-align: top;\n",
       "    }\n",
       "\n",
       "    .dataframe thead th {\n",
       "        text-align: right;\n",
       "    }\n",
       "</style>\n",
       "<table border=\"1\" class=\"dataframe\">\n",
       "  <thead>\n",
       "    <tr style=\"text-align: right;\">\n",
       "      <th></th>\n",
       "      <th>Film</th>\n",
       "      <th>Year</th>\n",
       "      <th>Lead Studio</th>\n",
       "    </tr>\n",
       "  </thead>\n",
       "  <tbody>\n",
       "    <tr>\n",
       "      <th>54</th>\n",
       "      <td>Knocked Up</td>\n",
       "      <td>2007</td>\n",
       "      <td>Universal</td>\n",
       "    </tr>\n",
       "    <tr>\n",
       "      <th>27</th>\n",
       "      <td>Sex and the City</td>\n",
       "      <td>2008</td>\n",
       "      <td>Warner Bros.</td>\n",
       "    </tr>\n",
       "    <tr>\n",
       "      <th>76</th>\n",
       "      <td>(500) Days of Summer</td>\n",
       "      <td>2009</td>\n",
       "      <td>Fox</td>\n",
       "    </tr>\n",
       "    <tr>\n",
       "      <th>69</th>\n",
       "      <td>Enchanted</td>\n",
       "      <td>2007</td>\n",
       "      <td>Disney</td>\n",
       "    </tr>\n",
       "    <tr>\n",
       "      <th>71</th>\n",
       "      <td>Beginners</td>\n",
       "      <td>2011</td>\n",
       "      <td>Independent</td>\n",
       "    </tr>\n",
       "    <tr>\n",
       "      <th>44</th>\n",
       "      <td>Marley and Me</td>\n",
       "      <td>2008</td>\n",
       "      <td>Fox</td>\n",
       "    </tr>\n",
       "    <tr>\n",
       "      <th>45</th>\n",
       "      <td>Mamma Mia!</td>\n",
       "      <td>2008</td>\n",
       "      <td>Universal</td>\n",
       "    </tr>\n",
       "    <tr>\n",
       "      <th>46</th>\n",
       "      <td>Mamma Mia!</td>\n",
       "      <td>2008</td>\n",
       "      <td>Universal</td>\n",
       "    </tr>\n",
       "    <tr>\n",
       "      <th>60</th>\n",
       "      <td>High School Musical 3: Senior Year</td>\n",
       "      <td>2008</td>\n",
       "      <td>Disney</td>\n",
       "    </tr>\n",
       "    <tr>\n",
       "      <th>16</th>\n",
       "      <td>The Proposal</td>\n",
       "      <td>2009</td>\n",
       "      <td>Disney</td>\n",
       "    </tr>\n",
       "  </tbody>\n",
       "</table>\n",
       "</div>"
      ],
      "text/plain": [
       "                                  Film  Year   Lead Studio\n",
       "54                          Knocked Up  2007     Universal\n",
       "27                    Sex and the City  2008  Warner Bros.\n",
       "76                (500) Days of Summer  2009           Fox\n",
       "69                           Enchanted  2007        Disney\n",
       "71                           Beginners  2011   Independent\n",
       "44                       Marley and Me  2008           Fox\n",
       "45                          Mamma Mia!  2008     Universal\n",
       "46                          Mamma Mia!  2008     Universal\n",
       "60  High School Musical 3: Senior Year  2008        Disney\n",
       "16                        The Proposal  2009        Disney"
      ]
     },
     "execution_count": 20,
     "metadata": {},
     "output_type": "execute_result"
    }
   ],
   "source": [
    "ten_best_comedy = movies[movies['Genre'] == 'Comedy'].nlargest(10,'Audience score %').loc[:,['Film','Year','Lead Studio']]\n",
    "ten_best_comedy"
   ]
  },
  {
   "cell_type": "code",
   "execution_count": 23,
   "id": "5163f64c",
   "metadata": {},
   "outputs": [],
   "source": [
    "ten_best_comedy.to_csv('ten_best_comedy.csv')"
   ]
  }
 ],
 "metadata": {
  "kernelspec": {
   "display_name": "Python 3 (ipykernel)",
   "language": "python",
   "name": "python3"
  },
  "language_info": {
   "codemirror_mode": {
    "name": "ipython",
    "version": 3
   },
   "file_extension": ".py",
   "mimetype": "text/x-python",
   "name": "python",
   "nbconvert_exporter": "python",
   "pygments_lexer": "ipython3",
   "version": "3.9.12"
  }
 },
 "nbformat": 4,
 "nbformat_minor": 5
}
